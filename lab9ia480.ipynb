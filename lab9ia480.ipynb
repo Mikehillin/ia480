{
 "cells": [
  {
   "cell_type": "markdown",
   "id": "a7f7f8f4-d37f-4886-ad2f-9a1d9661bd1b",
   "metadata": {},
   "source": [
    "# Analyzing Data and Interpreting Images with OpenAI's o1 Reasoning Model vs. GPT"
   ]
  },
  {
   "cell_type": "markdown",
   "id": "271a830d-95fd-4bb0-8156-f4ce5ee41f95",
   "metadata": {},
   "source": [
    "## Introduction\n",
    "OpenAI's o1 reasoning model is designed for complex problem-solving, data analysis, and image interpretation by simulating a multi-step thought process before generating responses. Unlike traditional GPT models, which produce output in a single pass, reasoning models use internal **reasoning tokens** to explore multiple approaches before finalizing an answer.\n",
    "<p align=\"center\">\n",
    "    <img src=\"https://cdn.openai.com/API/images/guides/reasoning_tokens.png\" alt=\"Reasoning Tokens\" width=\"600\">\n",
    "</p>  \n",
    "\n",
    "*Source: [OpenAI Reasoning Models Guide](https://platform.openai.com/docs/guides/reasoning)*\n",
    "\n",
    "**Key Differences: o1 Reasoning Model vs. GPT**\n",
    "- Multi-step reasoning: o1 evaluates different solutions before selecting the best response.\n",
    "- Deeper analytical capabilities: Optimized for complex data interpretation tasks.\n",
    "- Context-aware image analysis: Provides more structured and insightful image descriptions.\n",
    "- Reasoning Effort Control: Users can adjust the depth of reasoning (`low`, `medium`, `high`).\n",
    "\n",
    "\n",
    "For more details, refer to the [OpenAI Reasoning Models Guide](https://platform.openai.com/docs/guides/reasoning).\n"
   ]
  },
  {
   "cell_type": "markdown",
   "id": "aaa19529-a6a5-486b-802e-ddfb39fb85f1",
   "metadata": {},
   "source": [
    "## Purchase and Store API Key\n",
    "\n",
    "You need to **purchase** your [OpenAI](https://openai.com/) API key and store it securely, such as in **AWS Secrets Manager**.\n",
    "\n",
    "- **Key Name:** `api_key`  \n",
    "- **Key Value:** `<your OpenAI API key>`  \n",
    "- **Secret Name:** `openai`  "
   ]
  },
  {
   "cell_type": "markdown",
   "id": "5a126d9e-1487-4905-8cc0-5d55d1a06594",
   "metadata": {},
   "source": [
    "## Install Python Libraries\n",
    "\n",
    "- **openai**: Used to call `o1` and `GPT` models for data analysis and image interpretation."
   ]
  },
  {
   "cell_type": "code",
   "execution_count": 1,
   "id": "7f05dcb1-dab0-4a06-bf2b-c695a8d19d6d",
   "metadata": {},
   "outputs": [
    {
     "name": "stdout",
     "output_type": "stream",
     "text": [
      "Note: you may need to restart the kernel to use updated packages.\n"
     ]
    }
   ],
   "source": [
    "pip install openai -q"
   ]
  },
  {
   "cell_type": "markdown",
   "id": "ca255da8-7177-49e6-bff7-27501305b4f6",
   "metadata": {},
   "source": [
    "## Import Required Libraries\n",
    "\n",
    "The following libraries are used in this notebook:\n",
    "\n",
    "- **boto3**: AWS SDK for Python, used to interact with AWS services.\n",
    "- **json**: Standard Python library for handling JSON data.\n",
    "- **IPython.display**: Provides tools to display images, Markdown content, and other rich media in Jupyter Notebook.\n",
    "- **openai**: Used to call `o1` and `GPT` models for data analysis and image interpretation.\n",
    "- **pandas**: A powerful library for data manipulation and analysis.\n",
    "- **pprint**: Pretty prints data structures for better readability."
   ]
  },
  {
   "cell_type": "code",
   "execution_count": 2,
   "id": "5db0d630-749f-484e-8d01-79ec39e0e56e",
   "metadata": {
    "scrolled": true
   },
   "outputs": [],
   "source": [
    "import boto3\n",
    "import json\n",
    "from IPython.display import display, Image, Markdown\n",
    "from openai import OpenAI\n",
    "import pandas as pd\n",
    "from pprint import pprint"
   ]
  },
  {
   "cell_type": "markdown",
   "id": "ddd547f9-8c03-4673-a194-e71e01b38a3d",
   "metadata": {},
   "source": [
    "## Retrieve API Keys Securely from AWS Secrets Manager\n",
    "\n",
    "The following function, `get_secret()`, retrieves a secret from **AWS Secrets Manager**. This is a secure way to store and access sensitive credentials, such as API keys, without hardcoding them into the script"
   ]
  },
  {
   "cell_type": "code",
   "execution_count": 3,
   "id": "7fd3f543-0716-483c-88ce-b41f5fb418cb",
   "metadata": {},
   "outputs": [],
   "source": [
    "def get_secret(secret_name):\n",
    "    region_name = \"us-east-1\"\n",
    "\n",
    "    # Create a Secrets Manager client\n",
    "    session = boto3.session.Session()\n",
    "    client = session.client(\n",
    "        service_name='secretsmanager',\n",
    "        region_name=region_name\n",
    "    )\n",
    "\n",
    "    try:\n",
    "        get_secret_value_response = client.get_secret_value(\n",
    "            SecretId=secret_name\n",
    "        )\n",
    "    except ClientError as e:\n",
    "        raise e\n",
    "\n",
    "    secret = get_secret_value_response['SecretString']\n",
    "    \n",
    "    return json.loads(secret)"
   ]
  },
  {
   "cell_type": "markdown",
   "id": "e5711939-503e-44f6-bb28-0671c1131e26",
   "metadata": {},
   "source": [
    "## Initialize OpenAI Client\n",
    "\n",
    "The following code initializes the OpenAI client using a securely stored API key retrieved from AWS Secrets Manager."
   ]
  },
  {
   "cell_type": "code",
   "execution_count": 4,
   "id": "921be4e1-921f-4c84-b68d-fc72b435cc3a",
   "metadata": {
    "scrolled": true
   },
   "outputs": [],
   "source": [
    "client = OpenAI(api_key= get_secret('openai')['api_key'])"
   ]
  },
  {
   "cell_type": "markdown",
   "id": "860098d7-cfcc-4791-9b42-c526f8ff620a",
   "metadata": {},
   "source": [
    "## Load and Analyze the West African GDP Dataset\n",
    "\n",
    "This notebook uses the **diamonds dataset ([diamonds.csv](https://github.com/lbsocial/data-analysis-with-generative-ai/blob/main/diamonds.csv))**, which contains detailed attributes of diamonds, including weight, color, clarity, and price.\n",
    "\n",
    "One interesting pattern in the dataset is that **diamonds with \"IF\" (Internally Flawless) clarity tend to have the lowest average price** compared to other clarity grades. This observation is counterintuitive, as one might expect the highest-clarity diamonds to be the most expensive."
   ]
  },
  {
   "cell_type": "code",
   "execution_count": 5,
   "id": "ebef8c09-e485-4bea-b86b-275cce615b63",
   "metadata": {},
   "outputs": [
    {
     "data": {
      "text/html": [
       "<div>\n",
       "<style scoped>\n",
       "    .dataframe tbody tr th:only-of-type {\n",
       "        vertical-align: middle;\n",
       "    }\n",
       "\n",
       "    .dataframe tbody tr th {\n",
       "        vertical-align: top;\n",
       "    }\n",
       "\n",
       "    .dataframe thead th {\n",
       "        text-align: right;\n",
       "    }\n",
       "</style>\n",
       "<table border=\"1\" class=\"dataframe\">\n",
       "  <thead>\n",
       "    <tr style=\"text-align: right;\">\n",
       "      <th></th>\n",
       "      <th>Unnamed: 0</th>\n",
       "      <th>Date</th>\n",
       "      <th>BRE</th>\n",
       "      <th>TOGO</th>\n",
       "      <th>BFA</th>\n",
       "      <th>CPV</th>\n",
       "      <th>GMB</th>\n",
       "      <th>GHA</th>\n",
       "      <th>GUE</th>\n",
       "      <th>GUEB</th>\n",
       "      <th>LIB</th>\n",
       "      <th>MALI</th>\n",
       "      <th>MTA</th>\n",
       "      <th>NIG</th>\n",
       "      <th>NGR</th>\n",
       "      <th>SEN</th>\n",
       "      <th>SLN</th>\n",
       "      <th>IVC</th>\n",
       "    </tr>\n",
       "  </thead>\n",
       "  <tbody>\n",
       "    <tr>\n",
       "      <th>0</th>\n",
       "      <td>0</td>\n",
       "      <td>2021</td>\n",
       "      <td>$17.14B</td>\n",
       "      <td>$8.41B</td>\n",
       "      <td>$19.74B</td>\n",
       "      <td>$1.94B</td>\n",
       "      <td>$2.04B</td>\n",
       "      <td>$77.59B</td>\n",
       "      <td>$16.09B</td>\n",
       "      <td>$1.64B</td>\n",
       "      <td>$3.51B</td>\n",
       "      <td>$19.14B</td>\n",
       "      <td>$10.00B</td>\n",
       "      <td>$14.92B</td>\n",
       "      <td>$440.83B</td>\n",
       "      <td>$27.63B</td>\n",
       "      <td>$4.04B</td>\n",
       "      <td>$70.04B</td>\n",
       "    </tr>\n",
       "    <tr>\n",
       "      <th>1</th>\n",
       "      <td>1</td>\n",
       "      <td>2020</td>\n",
       "      <td>$15.65B</td>\n",
       "      <td>$7.57B</td>\n",
       "      <td>$17.93B</td>\n",
       "      <td>$1.70B</td>\n",
       "      <td>$1.81B</td>\n",
       "      <td>$70.04B</td>\n",
       "      <td>$14.18B</td>\n",
       "      <td>$1.43B</td>\n",
       "      <td>$3.04B</td>\n",
       "      <td>$17.47B</td>\n",
       "      <td>$8.41B</td>\n",
       "      <td>$13.74B</td>\n",
       "      <td>$432.20B</td>\n",
       "      <td>$24.49B</td>\n",
       "      <td>$4.06B</td>\n",
       "      <td>$61.35B</td>\n",
       "    </tr>\n",
       "    <tr>\n",
       "      <th>2</th>\n",
       "      <td>2</td>\n",
       "      <td>2019</td>\n",
       "      <td>$14.39B</td>\n",
       "      <td>$7.22B</td>\n",
       "      <td>$16.18B</td>\n",
       "      <td>$1.98B</td>\n",
       "      <td>$1.81B</td>\n",
       "      <td>$68.34B</td>\n",
       "      <td>$13.44B</td>\n",
       "      <td>$1.44B</td>\n",
       "      <td>$3.32B</td>\n",
       "      <td>$17.28B</td>\n",
       "      <td>$8.07B</td>\n",
       "      <td>$12.92B</td>\n",
       "      <td>$448.12B</td>\n",
       "      <td>$23.40B</td>\n",
       "      <td>$4.08B</td>\n",
       "      <td>$58.54B</td>\n",
       "    </tr>\n",
       "    <tr>\n",
       "      <th>3</th>\n",
       "      <td>3</td>\n",
       "      <td>2018</td>\n",
       "      <td>$14.26B</td>\n",
       "      <td>$7.11B</td>\n",
       "      <td>$15.89B</td>\n",
       "      <td>$1.97B</td>\n",
       "      <td>$1.67B</td>\n",
       "      <td>$67.30B</td>\n",
       "      <td>$11.86B</td>\n",
       "      <td>$1.50B</td>\n",
       "      <td>$3.42B</td>\n",
       "      <td>$17.07B</td>\n",
       "      <td>$7.47B</td>\n",
       "      <td>$12.81B</td>\n",
       "      <td>$421.74B</td>\n",
       "      <td>$23.12B</td>\n",
       "      <td>$4.09B</td>\n",
       "      <td>$58.01B</td>\n",
       "    </tr>\n",
       "    <tr>\n",
       "      <th>4</th>\n",
       "      <td>4</td>\n",
       "      <td>2017</td>\n",
       "      <td>$12.70B</td>\n",
       "      <td>$6.40B</td>\n",
       "      <td>$14.11B</td>\n",
       "      <td>$1.77B</td>\n",
       "      <td>$1.50B</td>\n",
       "      <td>$60.41B</td>\n",
       "      <td>$10.32B</td>\n",
       "      <td>$1.35B</td>\n",
       "      <td>$3.39B</td>\n",
       "      <td>$15.37B</td>\n",
       "      <td>$6.80B</td>\n",
       "      <td>$11.19B</td>\n",
       "      <td>$375.75B</td>\n",
       "      <td>$21.00B</td>\n",
       "      <td>$3.72B</td>\n",
       "      <td>$51.59B</td>\n",
       "    </tr>\n",
       "  </tbody>\n",
       "</table>\n",
       "</div>"
      ],
      "text/plain": [
       "   Unnamed: 0  Date      BRE    TOGO      BFA     CPV     GMB      GHA  \\\n",
       "0           0  2021  $17.14B  $8.41B  $19.74B  $1.94B  $2.04B  $77.59B   \n",
       "1           1  2020  $15.65B  $7.57B  $17.93B  $1.70B  $1.81B  $70.04B   \n",
       "2           2  2019  $14.39B  $7.22B  $16.18B  $1.98B  $1.81B  $68.34B   \n",
       "3           3  2018  $14.26B  $7.11B  $15.89B  $1.97B  $1.67B  $67.30B   \n",
       "4           4  2017  $12.70B  $6.40B  $14.11B  $1.77B  $1.50B  $60.41B   \n",
       "\n",
       "       GUE    GUEB     LIB     MALI      MTA      NIG       NGR      SEN  \\\n",
       "0  $16.09B  $1.64B  $3.51B  $19.14B  $10.00B  $14.92B  $440.83B  $27.63B   \n",
       "1  $14.18B  $1.43B  $3.04B  $17.47B   $8.41B  $13.74B  $432.20B  $24.49B   \n",
       "2  $13.44B  $1.44B  $3.32B  $17.28B   $8.07B  $12.92B  $448.12B  $23.40B   \n",
       "3  $11.86B  $1.50B  $3.42B  $17.07B   $7.47B  $12.81B  $421.74B  $23.12B   \n",
       "4  $10.32B  $1.35B  $3.39B  $15.37B   $6.80B  $11.19B  $375.75B  $21.00B   \n",
       "\n",
       "      SLN      IVC  \n",
       "0  $4.04B  $70.04B  \n",
       "1  $4.06B  $61.35B  \n",
       "2  $4.08B  $58.54B  \n",
       "3  $4.09B  $58.01B  \n",
       "4  $3.72B  $51.59B  "
      ]
     },
     "execution_count": 5,
     "metadata": {},
     "output_type": "execute_result"
    }
   ],
   "source": [
    "df = pd.read_csv('West_afr_GDP.csv')\n",
    "data_json = df.to_json(orient=\"records\")\n",
    "df.head()"
   ]
  },
  {
   "cell_type": "markdown",
   "id": "44df8274-f532-4103-9b8a-a882aa23eb86",
   "metadata": {},
   "source": [
    "## Generate Data Analysis Prompt for OpenAI Model\n",
    "\n",
    "To investigate why diamonds with **IF (Internally Flawless) clarity** have the **lowest average price**, we generate a structured prompt for the OpenAI model. The model will analyze the dataset and generate insights, including **Python code for visualizations**.\n"
   ]
  },
  {
   "cell_type": "code",
   "execution_count": 6,
   "id": "09d7ac96-aef2-425c-91ae-6b004a3ccce3",
   "metadata": {},
   "outputs": [],
   "source": [
    "data_prompt = f\"What are some trends in west African countries GDPs growth or decline and how have they changed over time. Provide Python-generated charts to support your conclusion. Data: {data_json}\"\n",
    "# print(prompt)"
   ]
  },
  {
   "cell_type": "markdown",
   "id": "0e269bba-2c1a-47e9-9662-3542873fa8ce",
   "metadata": {},
   "source": [
    "## Define a Function to Get Assistance from OpenAI GPT-4o\n",
    "\n",
    "The following function, `openai_gpt_help()`, sends a prompt to OpenAI's **GPT-4o model** and returns a response. It also prints the number of tokens used in the request."
   ]
  },
  {
   "cell_type": "code",
   "execution_count": 7,
   "id": "8a02a837-a5c0-409e-92ce-7ae93e58c834",
   "metadata": {},
   "outputs": [],
   "source": [
    "def openai_gpt_help(prompt):\n",
    "    messages = [{\"role\": \"user\", \"content\": prompt}]\n",
    "    response = client.chat.completions.create(\n",
    "        model='gpt-4o',\n",
    "        messages=messages,\n",
    "        temperature = 0\n",
    "    )\n",
    "    token_usage = response.usage\n",
    "    \n",
    "    pprint(f\"Tokens used: {token_usage}\")\n",
    "\n",
    "    return response.choices[0].message.content"
   ]
  },
  {
   "cell_type": "code",
   "execution_count": 8,
   "id": "df292b10-8857-4902-b2e4-8dab5602d204",
   "metadata": {},
   "outputs": [
    {
     "name": "stdout",
     "output_type": "stream",
     "text": [
      "('Tokens used: CompletionUsage(completion_tokens=855, prompt_tokens=9211, '\n",
      " 'total_tokens=10066, '\n",
      " 'completion_tokens_details=CompletionTokensDetails(accepted_prediction_tokens=0, '\n",
      " 'audio_tokens=0, reasoning_tokens=0, rejected_prediction_tokens=0), '\n",
      " 'prompt_tokens_details=PromptTokensDetails(audio_tokens=0, cached_tokens=0))')\n"
     ]
    }
   ],
   "source": [
    "gpt_result = openai_gpt_help(prompt=data_prompt)"
   ]
  },
  {
   "cell_type": "code",
   "execution_count": 9,
   "id": "1360e35d-3dda-4447-8b5e-f58d16ad91d3",
   "metadata": {},
   "outputs": [
    {
     "data": {
      "text/markdown": [
       "To analyze the trends in GDP growth or decline for West African countries over time, we can use the provided data to generate visualizations. We'll focus on a few key countries to keep the analysis concise. Let's use Python with libraries like Pandas and Matplotlib to create these visualizations.\n",
       "\n",
       "First, we need to preprocess the data to convert the GDP values from strings to numeric values. Then, we'll plot the GDP trends for selected countries.\n",
       "\n",
       "Here's the Python code to achieve this:\n",
       "\n",
       "```python\n",
       "import pandas as pd\n",
       "import matplotlib.pyplot as plt\n",
       "\n",
       "# Data provided\n",
       "data = [\n",
       "    {\"Unnamed: 0\":0,\"Date\":2021,\"BRE\":\"$17.14B\",\"TOGO\":\"$8.41B\",\"BFA\":\"$19.74B\",\"CPV\":\"$1.94B\",\"GMB\":\"$2.04B\",\"GHA\":\"$77.59B\",\"GUE\":\"$16.09B\",\"GUEB\":\"$1.64B\",\"LIB\":\"$3.51B\",\"MALI\":\"$19.14B\",\"MTA\":\"$10.00B\",\"NIG\":\"$14.92B\",\"NGR\":\"$440.83B\",\"SEN\":\"$27.63B\",\"SLN\":\"$4.04B\",\"IVC\":\"$70.04B\"},\n",
       "    {\"Unnamed: 0\":1,\"Date\":2020,\"BRE\":\"$15.65B\",\"TOGO\":\"$7.57B\",\"BFA\":\"$17.93B\",\"CPV\":\"$1.70B\",\"GMB\":\"$1.81B\",\"GHA\":\"$70.04B\",\"GUE\":\"$14.18B\",\"GUEB\":\"$1.43B\",\"LIB\":\"$3.04B\",\"MALI\":\"$17.47B\",\"MTA\":\"$8.41B\",\"NIG\":\"$13.74B\",\"NGR\":\"$432.20B\",\"SEN\":\"$24.49B\",\"SLN\":\"$4.06B\",\"IVC\":\"$61.35B\"},\n",
       "    # ... (rest of the data)\n",
       "]\n",
       "\n",
       "# Convert data to DataFrame\n",
       "df = pd.DataFrame(data)\n",
       "\n",
       "# Remove the dollar sign and 'B', then convert to float\n",
       "for column in df.columns[2:]:\n",
       "    df[column] = df[column].str.replace('$', '').str.replace('B', '').astype(float)\n",
       "\n",
       "# Select countries for analysis\n",
       "countries = ['NGR', 'GHA', 'IVC', 'SEN', 'MALI']\n",
       "\n",
       "# Plot GDP trends\n",
       "plt.figure(figsize=(12, 8))\n",
       "for country in countries:\n",
       "    plt.plot(df['Date'], df[country], label=country)\n",
       "\n",
       "plt.title('GDP Trends of Selected West African Countries (1960-2021)')\n",
       "plt.xlabel('Year')\n",
       "plt.ylabel('GDP (in Billion USD)')\n",
       "plt.legend()\n",
       "plt.grid(True)\n",
       "plt.show()\n",
       "```\n",
       "\n",
       "### Analysis\n",
       "\n",
       "1. **Nigeria (NGR)**: Nigeria has the largest GDP among the selected countries, showing significant growth over the years, especially from the early 2000s onwards. However, there are fluctuations, particularly noticeable around 2014-2016, likely due to economic challenges such as oil price volatility.\n",
       "\n",
       "2. **Ghana (GHA)**: Ghana's GDP has shown a steady increase, with notable growth from the mid-2000s. This growth can be attributed to economic reforms and the discovery of oil.\n",
       "\n",
       "3. **Ivory Coast (IVC)**: Ivory Coast has experienced consistent GDP growth, particularly after the political stabilization post-2011. The economy has been bolstered by agriculture and infrastructure development.\n",
       "\n",
       "4. **Senegal (SEN)**: Senegal's GDP growth has been steady, with recent years showing an upward trend due to investments in infrastructure and energy.\n",
       "\n",
       "5. **Mali (MALI)**: Mali's GDP has grown over the years, but the growth rate is more moderate compared to other countries, likely due to political instability and security challenges.\n",
       "\n",
       "These visualizations and analyses provide insights into the economic trajectories of these West African countries, highlighting both growth and challenges over the decades."
      ],
      "text/plain": [
       "<IPython.core.display.Markdown object>"
      ]
     },
     "metadata": {},
     "output_type": "display_data"
    }
   ],
   "source": [
    "display(Markdown(gpt_result))"
   ]
  },
  {
   "cell_type": "markdown",
   "id": "c068efcc-c82a-40d8-8d5b-3939f2417a4e",
   "metadata": {},
   "source": [
    "## Define a Function to Get Assistance from OpenAI o1 Model  \n",
    "\n",
    "The following function, `openai_o_help()`, sends a prompt to OpenAI's **o1 reasoning model** and returns a response.  \n",
    "\n",
    "### Key Differences Between o1 and GPT Models:\n",
    "- **Reasoning Effort**: The o1 model allows users to control reasoning depth using `reasoning_effort` (`low`, `medium`, `high`).  \n",
    "- **No Temperature Parameter**: Unlike GPT models, **o1 does not support `temperature`**.  \n",
    "- **Developer Messages Replace System Messages**:  \n",
    "  - Starting with `o1-2024-12-17`, **developer messages** replace **system messages** to align with chain-of-command behavior.  \n",
    "\n",
    "### Best Practices for Prompting o1  \n",
    "- **Keep prompts simple and direct.**  \n",
    "- **Avoid chain-of-thought prompts.** o1 reasons internally, so step-by-step instructions aren't needed.  \n",
    "- **Use delimiters for clarity.** Use Markdown, XML tags, or section titles.  \n",
    "- **Try zero-shot first.** If needed, add few-shot examples that closely match your goal.  \n",
    "- **Be explicit.** Clearly define success criteria and constraints.  \n",
    "- **Markdown is disabled by default.** To enable, start with `\"Formatting re-enabled\"`.  \n",
    "\n",
    "Source: [OpenAI Reasoning Models Best Practices Guide](https://platform.openai.com/docs/guides/reasoning-best-practices).  \n"
   ]
  },
  {
   "cell_type": "code",
   "execution_count": 10,
   "id": "89f3d84b-b101-4299-b01a-ee4285c7608d",
   "metadata": {},
   "outputs": [],
   "source": [
    "def openai_o_help(prompt):\n",
    "    messages = [ {\"role\": \"user\", \"content\": prompt}]\n",
    "    response = client.chat.completions.create(\n",
    "        model='o1',\n",
    "        reasoning_effort=\"high\", # low, medium or high\n",
    "        messages=messages,\n",
    "\n",
    "    )\n",
    "    token_usage = response.usage\n",
    "    \n",
    "    pprint(f\"Tokens used: {token_usage}\")\n",
    "\n",
    "    return response.choices[0].message.content"
   ]
  },
  {
   "cell_type": "code",
   "execution_count": 11,
   "id": "c5fc9ef3-4510-4faf-995f-31a58134b9a5",
   "metadata": {},
   "outputs": [
    {
     "name": "stdout",
     "output_type": "stream",
     "text": [
      "('Tokens used: CompletionUsage(completion_tokens=3479, prompt_tokens=9210, '\n",
      " 'total_tokens=12689, '\n",
      " 'completion_tokens_details=CompletionTokensDetails(accepted_prediction_tokens=0, '\n",
      " 'audio_tokens=0, reasoning_tokens=1856, rejected_prediction_tokens=0), '\n",
      " 'prompt_tokens_details=PromptTokensDetails(audio_tokens=0, cached_tokens=0))')\n"
     ]
    }
   ],
   "source": [
    "o1_result = openai_o_help(prompt=data_prompt)"
   ]
  },
  {
   "cell_type": "code",
   "execution_count": 12,
   "id": "17ab95a7-ee31-49c7-b2ad-f77996be5e44",
   "metadata": {},
   "outputs": [
    {
     "name": "stdout",
     "output_type": "stream",
     "text": [
      "Below is a sample Python workflow demonstrating how you might load the data into a pandas DataFrame, clean and convert the GDP values into numeric form, and then plot some of the countries’ GDP over time to visualize trends. After the code, you will find a brief discussion of notable GDP trends in West Africa based on these data.\n",
      "\n",
      "--------------------------------------------------------------------------------\n",
      "1) Data Cleaning and Visualization in Python\n",
      "--------------------------------------------------------------------------------\n",
      "\n",
      "Note: Make sure you have installed pandas (pip install pandas) and matplotlib (pip install matplotlib). Then run the code below in, for example, a Jupyter notebook or a Python script.\n",
      "\n",
      "--------------------------------------------------------------------------------\n",
      "import pandas as pd\n",
      "import matplotlib.pyplot as plt\n",
      "import re\n",
      "\n",
      "#---------------------------------------------------\n",
      "# 1. Load the data into a DataFrame\n",
      "#---------------------------------------------------\n",
      "data = [\n",
      "  {\"Unnamed: 0\":0,\"Date\":2021,\"BRE\":\"$17.14B\",\"TOGO\":\"$8.41B\",\"BFA\":\"$19.74B\",\"CPV\":\"$1.94B\",\"GMB\":\"$2.04B\",\"GHA\":\"$77.59B\",\"GUE\":\"$16.09B\",\"GUEB\":\"$1.64B\",\"LIB\":\"$3.51B\",\"MALI\":\"$19.14B\",\"MTA\":\"$10.00B\",\"NIG\":\"$14.92B\",\"NGR\":\"$440.83B\",\"SEN\":\"$27.63B\",\"SLN\":\"$4.04B\",\"IVC\":\"$70.04B\"},\n",
      "  {\"Unnamed: 0\":1,\"Date\":2020,\"BRE\":\"$15.65B\",\"TOGO\":\"$7.57B\",\"BFA\":\"$17.93B\",\"CPV\":\"$1.70B\",\"GMB\":\"$1.81B\",\"GHA\":\"$70.04B\",\"GUE\":\"$14.18B\",\"GUEB\":\"$1.43B\",\"LIB\":\"$3.04B\",\"MALI\":\"$17.47B\",\"MTA\":\"$8.41B\",\"NIG\":\"$13.74B\",\"NGR\":\"$432.20B\",\"SEN\":\"$24.49B\",\"SLN\":\"$4.06B\",\"IVC\":\"$61.35B\"},\n",
      "  {\"Unnamed: 0\":2,\"Date\":2019,\"BRE\":\"$14.39B\",\"TOGO\":\"$7.22B\",\"BFA\":\"$16.18B\",\"CPV\":\"$1.98B\",\"GMB\":\"$1.81B\",\"GHA\":\"$68.34B\",\"GUE\":\"$13.44B\",\"GUEB\":\"$1.44B\",\"LIB\":\"$3.32B\",\"MALI\":\"$17.28B\",\"MTA\":\"$8.07B\",\"NIG\":\"$12.92B\",\"NGR\":\"$448.12B\",\"SEN\":\"$23.40B\",\"SLN\":\"$4.08B\",\"IVC\":\"$58.54B\"},\n",
      "  #  ... etc. (include all rows from the question’s data) ...\n",
      "  {\"Unnamed: 0\":61,\"Date\":1960,\"BRE\":\"$0.23B\",\"TOGO\":\"$0.12B\",\"BFA\":\"$0.33B\",\"CPV\":None,\"GMB\":None,\"GHA\":\"$1.22B\",\"GUE\":None,\"GUEB\":None,\"LIB\":None,\"MALI\":None,\"MTA\":None,\"NIG\":\"$0.45B\",\"NGR\":\"$4.20B\",\"SEN\":\"$1.00B\",\"SLN\":\"$0.32B\",\"IVC\":\"$0.54B\"}\n",
      "]\n",
      "\n",
      "df = pd.DataFrame(data)\n",
      "\n",
      "#---------------------------------------------------\n",
      "# 2. Convert GDP strings (\"$XX.XXB\" or \"$YY.YYM\") to numeric values (in billions)\n",
      "#---------------------------------------------------\n",
      "def parse_gdp(gdp_str):\n",
      "    \"\"\"\n",
      "    Convert strings like '$12.34B' or '$560.78M' into numeric values in billions.\n",
      "    Returns None if the string is invalid or missing.\n",
      "    \"\"\"\n",
      "    if not isinstance(gdp_str, str):\n",
      "        return None\n",
      "    match = re.match(r'\\$(\\d+(?:\\.\\d+)?)([MB])', gdp_str)\n",
      "    if match:\n",
      "        value = float(match.group(1))\n",
      "        suffix = match.group(2)\n",
      "        if suffix == 'B':\n",
      "            return value        # billions\n",
      "        elif suffix == 'M':\n",
      "            return value / 1000 # convert millions to billions\n",
      "    return None\n",
      "\n",
      "# Apply the parser to all GDP columns (every column except 'Unnamed: 0' and 'Date')\n",
      "for col in df.columns:\n",
      "    if col not in ['Unnamed: 0', 'Date']:\n",
      "        df[col] = df[col].apply(parse_gdp)\n",
      "\n",
      "#---------------------------------------------------\n",
      "# 3. Sort by Date in ascending order (helps for time-series plotting)\n",
      "#---------------------------------------------------\n",
      "df = df.sort_values(by='Date')\n",
      "\n",
      "#---------------------------------------------------\n",
      "# 4. Plot selected countries over time\n",
      "#---------------------------------------------------\n",
      "plt.figure(figsize=(10, 6))\n",
      "\n",
      "# Choose a subset of countries to plot\n",
      "countries_to_plot = ['NGR', 'GHA', 'IVC', 'SEN', 'BFA', 'MALI', 'TOGO']\n",
      "for country in countries_to_plot:\n",
      "    plt.plot(df['Date'], df[country], marker='o', label=country)\n",
      "\n",
      "plt.title('GDP Trends in Selected West African Countries (1960–2021)')\n",
      "plt.xlabel('Year')\n",
      "plt.ylabel('GDP (Billions of USD)')\n",
      "plt.legend()\n",
      "plt.grid(True)\n",
      "plt.show()\n",
      "--------------------------------------------------------------------------------\n",
      "\n",
      "2) Observations and Trends\n",
      "--------------------------------------------------------------------------------\n",
      "\n",
      "1. Steady Long-Term Growth Across Most Countries:  \n",
      "   – Nearly all West African countries in this dataset show a general upward trend in GDP over the decades. Despite periods of slower growth or setbacks year to year, the overall trajectory from 1960 to 2021 is increasing.  \n",
      "\n",
      "2. Nigeria as the Region’s Largest Economy:  \n",
      "   – From the chart (and raw numbers), Nigeria consistently leads in absolute GDP, especially accelerating after the early 2000s. Even in earlier decades, it was among the top contributors, but its GDP grew to several hundred billion dollars in more recent years, reaching over $400B by 2021.  \n",
      "\n",
      "3. Ghana’s Significant Rise:  \n",
      "   – Ghana’s GDP also shows substantial growth, particularly noticeable from the late 1990s onward. It climbs from only a few billion dollars in the 1980s–1990s range to over $70B by 2021.  \n",
      "\n",
      "4. Côte d’Ivoire (IVC) and Senegal (SEN) Growth:  \n",
      "   – Côte d’Ivoire and Senegal exhibit steady increases, reflecting expanding economic activity in agriculture, services, and industry. Côte d’Ivoire has grown from under $1B in the 1960s to around $70B by 2021, while Senegal has climbed to $27B.  \n",
      "\n",
      "5. Smaller Economies Growing Too:  \n",
      "   – Countries like Burkina Faso (BFA), Togo, Mali, and others, while smaller in absolute GDP, also show upward trends. For instance, Burkina Faso has gone from well under $1B to nearly $20B by 2021.  \n",
      "\n",
      "Overall, these data illustrate how West African economies have maintained a long-term positive trajectory in nominal GDP. Of course, deeper analysis would also look at population growth, per-capita GDP, inflation, and other macroeconomic indicators to get a fuller picture of economic well-being. Nevertheless, the general pattern is clear: across the past six decades, West African GDP figures indicate sustained increases, with varying growth rates among the region’s countries.\n"
     ]
    }
   ],
   "source": [
    "print(o1_result)"
   ]
  },
  {
   "cell_type": "markdown",
   "id": "b12d3c82-3dbf-4f83-9d3d-2b0474ce66c2",
   "metadata": {},
   "source": [
    "### Reflection\n",
    "\n",
    "The reasoning model gave an accurate desrciption of the dataset and identified accurate treds in the data that supports analysis regarding the fastest growing countries in west africa. It also gave potential reasons and drivers for growth or decline of GDP. These \n",
    "\n"
   ]
  },
  {
   "cell_type": "markdown",
   "id": "f392719c-faa6-4438-a5ea-5e8e6d613d90",
   "metadata": {},
   "source": [
    "## References  \n",
    "- **OpenAI Reasoning Models Guide**: [OpenAI](https://platform.openai.com/docs/guides/reasoning)  \n",
    "- **OpenAI Reasoning Models Best Practices Guide**: [OpenAI](https://platform.openai.com/docs/guides/reasoning-best-practices)  \n",
    "- **Colin Jarvis. “Reasoning with O1.” DeepLearning.AI.** Accessed February 14, 2025. [DeepLearning.AI](https://www.deeplearning.ai/short-courses/reasoning-with-o1/)  "
   ]
  }
 ],
 "metadata": {
  "kernelspec": {
   "display_name": "conda_python3",
   "language": "python",
   "name": "conda_python3"
  },
  "language_info": {
   "codemirror_mode": {
    "name": "ipython",
    "version": 3
   },
   "file_extension": ".py",
   "mimetype": "text/x-python",
   "name": "python",
   "nbconvert_exporter": "python",
   "pygments_lexer": "ipython3",
   "version": "3.10.16"
  }
 },
 "nbformat": 4,
 "nbformat_minor": 5
}
